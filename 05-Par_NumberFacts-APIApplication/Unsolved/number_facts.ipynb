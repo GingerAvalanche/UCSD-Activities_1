{
 "cells": [
  {
   "cell_type": "code",
   "execution_count": 1,
   "metadata": {},
   "outputs": [],
   "source": [
    "# Dependencies\n",
    "import requests\n",
    "import json"
   ]
  },
  {
   "cell_type": "code",
   "execution_count": 9,
   "metadata": {},
   "outputs": [],
   "source": [
    "# Base URL for GET requests to retrieve number/date facts\n",
    "base_url = \"http://www.numbersapi.com/\""
   ]
  },
  {
   "cell_type": "code",
   "execution_count": 12,
   "metadata": {},
   "outputs": [
    {
     "name": "stdout",
     "output_type": "stream",
     "text": [
      "What type of data would you like to search for? [Trivia, Math, Date, or Year] math\n"
     ]
    }
   ],
   "source": [
    "# Ask the user what kind of data they would like to search for\n",
    "choice = \"\"\n",
    "query = \"What type of data would you like to search for? [Trivia, Math, Date, or Year] \"\n",
    "while choice not in [\"trivia\", \"math\", \"date\", \"year\"]:\n",
    "    choice = input(query).lower()\n",
    "print(f\"{query}{choice}\")"
   ]
  },
  {
   "cell_type": "code",
   "execution_count": 13,
   "metadata": {},
   "outputs": [
    {
     "name": "stdout",
     "output_type": "stream",
     "text": [
      "What number would you like to search for? 50\n",
      "50 is the smallest number that can be written as the sum of of 2 squares in 2 ways.\n"
     ]
    }
   ],
   "source": [
    "# Create code to return a number fact\n",
    "# If the kind of search is \"date\" take in two numbers\n",
    "if choice == \"date\":\n",
    "  # Collect the month to search for\n",
    "  query = \"What number month would you like to search for? [June is month 6] \"\n",
    "  month = input(query)\n",
    "  print(f\"{query}{month}\")\n",
    "  # Collect the day to search for\n",
    "  query = \"What number day would you like to search for? [Remember 'Thirty Days Hath September'] \"\n",
    "  day = input(query)\n",
    "  print(f\"{query}{day}\")\n",
    "  # Make an API call to the \"date\" API and convert response object to JSON\n",
    "  json_response = requests.get(f\"{base_url}{month}/{day}/{choice}?json\").json()\n",
    "  # Print the fact stored within the response\n",
    "  print(json_response[\"text\"])\n",
    "\n",
    "# If the kind of search is anything but \"date\" then take one number\n",
    "else:\n",
    "  # Collect the number to search for\n",
    "  query = \"What number would you like to search for? \"\n",
    "  num = input(query)\n",
    "  print(f\"{query}{num}\")\n",
    "  # Make an API call to the API and convert response object to JSON\n",
    "  json_response = requests.get(f\"{base_url}{num}/{choice}?json\").json()\n",
    "  # Print the fact stored within the response\n",
    "  print(json_response[\"text\"])"
   ]
  },
  {
   "cell_type": "code",
   "execution_count": null,
   "metadata": {
    "collapsed": true
   },
   "outputs": [],
   "source": []
  }
 ],
 "metadata": {
  "kernelspec": {
   "display_name": "Python 3 (ipykernel)",
   "language": "python",
   "name": "python3"
  },
  "language_info": {
   "codemirror_mode": {
    "name": "ipython",
    "version": 3
   },
   "file_extension": ".py",
   "mimetype": "text/x-python",
   "name": "python",
   "nbconvert_exporter": "python",
   "pygments_lexer": "ipython3",
   "version": "3.10.11"
  },
  "varInspector": {
   "cols": {
    "lenName": 16,
    "lenType": 16,
    "lenVar": 40
   },
   "kernels_config": {
    "python": {
     "delete_cmd_postfix": "",
     "delete_cmd_prefix": "del ",
     "library": "var_list.py",
     "varRefreshCmd": "print(var_dic_list())"
    },
    "r": {
     "delete_cmd_postfix": ") ",
     "delete_cmd_prefix": "rm(",
     "library": "var_list.r",
     "varRefreshCmd": "cat(var_dic_list()) "
    }
   },
   "types_to_exclude": [
    "module",
    "function",
    "builtin_function_or_method",
    "instance",
    "_Feature"
   ],
   "window_display": false
  }
 },
 "nbformat": 4,
 "nbformat_minor": 2
}
